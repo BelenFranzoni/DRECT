{
 "cells": [
  {
   "cell_type": "code",
   "execution_count": 1,
   "metadata": {},
   "outputs": [
    {
     "name": "stdout",
     "output_type": "stream",
     "text": [
      "Begin to generate simulation signals\n",
      "Save successfully\n"
     ]
    },
    {
     "name": "stderr",
     "output_type": "stream",
     "text": [
      "/mnt/DATA1/wuliubin/miniconda3/envs/AcDpILT/lib/python3.9/site-packages/tqdm/auto.py:22: TqdmWarning: IProgress not found. Please update jupyter and ipywidgets. See https://ipywidgets.readthedocs.io/en/stable/user_install.html\n",
      "  from .autonotebook import tqdm as notebook_tqdm\n"
     ]
    }
   ],
   "source": [
    "! python3 dataset_nmr.py\n",
    "import torch\n",
    "import numpy as np\n",
    "import matplotlib.pyplot as plt\n",
    "import scipy.io as scio\n",
    "from model import Transformer\n",
    "from scipy import interpolate\n",
    "\n",
    "label = np.load(\"Dataset/Noise_data_nmr/label.npy\")\n",
    "noise_signals = np.load(\"Dataset/Noise_data_nmr/noise_signals.npy\")"
   ]
  },
  {
   "cell_type": "code",
   "execution_count": 2,
   "metadata": {},
   "outputs": [],
   "source": [
    "X = np.linspace(0, 14, 140)\n",
    "Y = np.arange(300)\n",
    "X,Y = np.meshgrid(X, Y)\n",
    "\n",
    "with torch.no_grad():\n",
    "        module = Transformer.load_from_checkpoint(\"Result/DOSY/last.ckpt\")\n",
    "        module.cpu()\n",
    "        module.eval()\n",
    "        module.freeze()\n",
    "\n",
    "Z_out = np.zeros([5, 300, 140])\n",
    "\n",
    "for i in range(4):\n",
    "        test_input = noise_signals[i, np.newaxis]\n",
    "        \n",
    "        test_input = torch.tensor(test_input)\n",
    "        test_input = test_input.to(torch.float32)\n",
    "\n",
    "        test_out = module(test_input)/3\n",
    "\n",
    "        test_out = test_out * test_input[:, :, 0][:, :, np.newaxis]\n",
    "        test_out = test_out[0].cpu().detach().numpy()\n",
    "        # test_out[test_out < np.tile(((np.max(test_out, axis=1)) * 0.7)[:, np.newaxis], [1, module.hparams.label_size])] = 0\n",
    "        Z_out[i] = test_out\n",
    "\n",
    "\n",
    "Z_out[4] = label[0]\n",
    "\n",
    "scio.savemat(\"Result/noise_immunity_result.mat\", {\"Z\":Z_out})"
   ]
  }
 ],
 "metadata": {
  "kernelspec": {
   "display_name": "Python 3.9.12 ('AcDpILT')",
   "language": "python",
   "name": "python3"
  },
  "language_info": {
   "codemirror_mode": {
    "name": "ipython",
    "version": 3
   },
   "file_extension": ".py",
   "mimetype": "text/x-python",
   "name": "python",
   "nbconvert_exporter": "python",
   "pygments_lexer": "ipython3",
   "version": "3.9.12"
  },
  "orig_nbformat": 4,
  "vscode": {
   "interpreter": {
    "hash": "bb42de7a954dfadddaafd295fc84d0091c17e7c732f8f00291136ae8f2918236"
   }
  }
 },
 "nbformat": 4,
 "nbformat_minor": 2
}
