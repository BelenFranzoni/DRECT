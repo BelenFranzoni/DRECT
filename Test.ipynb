{
 "cells": [
  {
   "cell_type": "code",
   "execution_count": 2,
   "metadata": {},
   "outputs": [
    {
     "name": "stderr",
     "output_type": "stream",
     "text": [
      "/mnt/DATA1/wuliubin/miniconda3/envs/DRILT/lib/python3.9/site-packages/tqdm/auto.py:22: TqdmWarning: IProgress not found. Please update jupyter and ipywidgets. See https://ipywidgets.readthedocs.io/en/stable/user_install.html\n",
      "  from .autonotebook import tqdm as notebook_tqdm\n"
     ]
    }
   ],
   "source": [
    "import config\n",
    "import numpy as np\n",
    "import scipy.io as scio\n",
    "import torch\n",
    "import matplotlib.pyplot as plt\n",
    "from model import Transformer\n",
    "from scipy import interpolate"
   ]
  },
  {
   "cell_type": "code",
   "execution_count": 3,
   "metadata": {},
   "outputs": [],
   "source": [
    "# Type: GSP, QGC, VD\n",
    "# For the data of VD, its raw data must be downloaded first from https://www.escholar.manchester.ac.uk/uk-ac-man-scw:303820'.\n",
    "\n",
    "Type = \"QGC\"\n",
    "NmrData = scio.loadmat(\"./Dataset/\" + Type + \"_net_input.mat\")\n",
    "\n",
    "scale = 1.0  # Parameters used to adjust the calculation range of D. When the required value of the diffusion coefficient exceeds \n",
    "# the computational boundary, increasing this parameter enables obtaining a complete output result. However, it is important to \n",
    "# note that this may affect the processing effect of data with diffusion coefficient values that are close to each other.\n",
    "\n",
    "if Type == 'VD':    \n",
    "    with torch.no_grad():\n",
    "        module = Transformer.load_from_checkpoint(\"Result/VD/last.ckpt\")\n",
    "        module.cpu()\n",
    "        module.eval()\n",
    "        module.freeze()\n",
    "    test_input = NmrData['S'][np.newaxis, :, :]    \n",
    "\n",
    "else:\n",
    "    with torch.no_grad():\n",
    "        module = Transformer.load_from_checkpoint(\"Result/DOSY/last.ckpt\")\n",
    "        module.cpu()\n",
    "        module.eval()\n",
    "        module.freeze()\n",
    "\n",
    "    NmrDatai = np.zeros([NmrData['S'].shape[0], module.linear_en.in_features])\n",
    "    for i in np.arange(NmrData['S'].shape[0]):\n",
    "        f = interpolate.interp1d(NmrData['b'][0]*scale, NmrData['S'][i, :], fill_value='extrapolate')\n",
    "        NmrDatai[i] = f(np.linspace(0, np.max(NmrData['b'][0]), module.linear_en.in_features))\n",
    "    test_input = NmrDatai[np.newaxis, :, :]\n",
    "    \n",
    "test_input = torch.tensor(test_input)\n",
    "test_input = test_input.to(torch.float32)\n",
    "\n",
    "test_out = module(test_input)/config.mul_label\n",
    "\n",
    "test_out = test_out * test_input[:, :, 0][:, :, np.newaxis]\n",
    "test_out = test_out[0].cpu().detach().numpy()\n",
    "test_out[test_out < np.tile(((np.max(test_out, axis=1)) * 0.7)[:, np.newaxis], [1, module.hparams.label_size])] = 0\n",
    "\n",
    "scio.savemat(\"./Result/\" + Type + \"_Result.mat\", {\"Z\":test_out, \"calculated_max_D\":14*(config.max_b*scale/NmrData['b'][0][-1])})"
   ]
  },
  {
   "cell_type": "code",
   "execution_count": 3,
   "metadata": {},
   "outputs": [],
   "source": [
    "# Type: T1, T2\n",
    "\n",
    "Type = \"T1\"\n",
    "NmrData = scio.loadmat(\"./Dataset/\" + Type + \"_net_input.mat\")\n",
    "\n",
    "with torch.no_grad():\n",
    "    module = Transformer.load_from_checkpoint(\"Result/T1T2/last.ckpt\")\n",
    "    module.cpu()\n",
    "    module.eval()\n",
    "    module.freeze()\n",
    "\n",
    "test_out = np.zeros([NmrData['S'].shape[0], module.hparams.label_size])\n",
    "for i in np.arange(NmrData['S'].shape[0]):\n",
    "    test_input = np.reshape(NmrData['S'][i, :], (1, module.hparams.n_fre, module.hparams.signal_dim))\n",
    "    test_input = torch.tensor(test_input).to(torch.float32)\n",
    "\n",
    "    out = module(test_input)/config.mul_label\n",
    "    out = out[0, 0].cpu().detach().numpy()\n",
    "    test_out[i, :] = out\n",
    "\n",
    "scio.savemat(\"./Result/\" + Type + \"_Result.mat\", {\"Z\":test_out})"
   ]
  }
 ],
 "metadata": {
  "kernelspec": {
   "display_name": "Python 3.9.12 ('DRILT')",
   "language": "python",
   "name": "python3"
  },
  "language_info": {
   "codemirror_mode": {
    "name": "ipython",
    "version": 3
   },
   "file_extension": ".py",
   "mimetype": "text/x-python",
   "name": "python",
   "nbconvert_exporter": "python",
   "pygments_lexer": "ipython3",
   "version": "3.9.12"
  },
  "orig_nbformat": 4,
  "vscode": {
   "interpreter": {
    "hash": "66e8666e2ecf74ce971dc06ce88b4183c2dc914c5482ce61110f2e62f679ceaa"
   }
  }
 },
 "nbformat": 4,
 "nbformat_minor": 2
}
